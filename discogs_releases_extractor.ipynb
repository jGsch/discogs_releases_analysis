{
 "cells": [
  {
   "cell_type": "code",
   "execution_count": 2,
   "metadata": {},
   "outputs": [],
   "source": [
    "import pandas as pd\n",
    "import time \n",
    "import requests\n",
    "from helpers import get_release_info\n",
    "\n",
    "%load_ext autoreload\n",
    "%autoreload 2"
   ]
  },
  {
   "cell_type": "code",
   "execution_count": 11,
   "metadata": {
    "scrolled": false
   },
   "outputs": [
    {
     "name": "stdout",
     "output_type": "stream",
     "text": [
      "1 : https://api.discogs.com/releases/1 (status code: 200)\n",
      "2 : https://api.discogs.com/releases/2 (status code: 200)\n",
      "Rate Limiting ! Wait 60 secondes... Done!\n",
      "3 : https://api.discogs.com/releases/3 (status code: 200)\n",
      "4 : https://api.discogs.com/releases/4 (status code: 200)\n",
      "5 : https://api.discogs.com/releases/5 (status code: 200)\n",
      "6 : https://api.discogs.com/releases/6 (status code: 200)\n",
      "7 : https://api.discogs.com/releases/7 (status code: 200)\n",
      "8 : https://api.discogs.com/releases/8 (status code: 200)\n",
      "Rate Limiting ! Wait 60 secondes... Done!\n",
      "9 : https://api.discogs.com/releases/9 (status code: 200)\n",
      "10 : https://api.discogs.com/releases/10 (status code: 200)\n",
      "11 : https://api.discogs.com/releases/11 (status code: 200)\n",
      "12 : https://api.discogs.com/releases/12 (status code: 200)\n",
      "13 : https://api.discogs.com/releases/13 (status code: 200)\n",
      "14 : https://api.discogs.com/releases/14 (status code: 200)\n",
      "Rate Limiting ! Wait 60 secondes... Done!\n",
      "15 : https://api.discogs.com/releases/15 (status code: 200)\n",
      "16 : https://api.discogs.com/releases/16 (status code: 200)\n",
      "17 : https://api.discogs.com/releases/17 (status code: 200)\n",
      "18 : https://api.discogs.com/releases/18 (status code: 200)\n",
      "Rate Limiting ! Wait 60 secondes... Done!\n",
      "19 : https://api.discogs.com/releases/19 (status code: 200)\n",
      "20 : https://api.discogs.com/releases/20 (status code: 200)\n",
      "21 : https://api.discogs.com/releases/21 (status code: 200)\n",
      "22 : https://api.discogs.com/releases/22 (status code: 200)\n",
      "Rate Limiting ! Wait 60 secondes... Done!\n",
      "23 : https://api.discogs.com/releases/23 (status code: 200)\n",
      "24 : https://api.discogs.com/releases/24 (status code: 200)\n",
      "25 : https://api.discogs.com/releases/25 (status code: 200)\n",
      "26 : https://api.discogs.com/releases/26 (status code: 200)\n",
      "Rate Limiting ! Wait 60 secondes... Done!\n",
      "27 : https://api.discogs.com/releases/27 (status code: 200)\n",
      "28 : https://api.discogs.com/releases/28 (status code: 200)\n",
      "29 : https://api.discogs.com/releases/29 (status code: 200)\n",
      "30 : https://api.discogs.com/releases/30 (status code: 200)\n",
      "Rate Limiting ! Wait 60 secondes... Done!\n",
      "31 : https://api.discogs.com/releases/31 (status code: 200)\n",
      "32 : https://api.discogs.com/releases/32 (status code: 404)\n",
      "Release n°32 not found !\n",
      "33 : https://api.discogs.com/releases/33 (status code: 404)\n",
      "Release n°33 not found !\n",
      "34 : https://api.discogs.com/releases/34 (status code: 404)\n",
      "Release n°34 not found !\n",
      "35 : https://api.discogs.com/releases/35 (status code: 200)\n",
      "36 : https://api.discogs.com/releases/36 (status code: 200)\n",
      "37 : https://api.discogs.com/releases/37 (status code: 200)\n",
      "Rate Limiting ! Wait 60 secondes... Done!\n",
      "38 : https://api.discogs.com/releases/38 (status code: 200)\n",
      "39 : https://api.discogs.com/releases/39 (status code: 200)\n",
      "40 : https://api.discogs.com/releases/40 (status code: 200)\n",
      "41 : https://api.discogs.com/releases/41 (status code: 200)\n",
      "Rate Limiting ! Wait 60 secondes... Done!\n",
      "42 : https://api.discogs.com/releases/42 (status code: 200)\n",
      "43 : https://api.discogs.com/releases/43 (status code: 200)\n",
      "44 : https://api.discogs.com/releases/44 (status code: 200)\n",
      "45 : https://api.discogs.com/releases/45 (status code: 200)\n",
      "Rate Limiting ! Wait 60 secondes... Done!\n",
      "46 : https://api.discogs.com/releases/46 (status code: 200)\n",
      "47 : https://api.discogs.com/releases/47 (status code: 200)\n",
      "48 : https://api.discogs.com/releases/48 (status code: 200)\n",
      "49 : https://api.discogs.com/releases/49 (status code: 200)\n",
      "Rate Limiting ! Wait 60 secondes... Done!\n",
      "50 : https://api.discogs.com/releases/50 (status code: 404)\n",
      "Release n°50 not found !\n",
      "51 : https://api.discogs.com/releases/51 (status code: 200)\n",
      "52 : https://api.discogs.com/releases/52 (status code: 200)\n",
      "53 : https://api.discogs.com/releases/53 (status code: 200)\n",
      "54 : https://api.discogs.com/releases/54 (status code: 200)\n",
      "Rate Limiting ! Wait 60 secondes... "
     ]
    },
    {
     "ename": "KeyboardInterrupt",
     "evalue": "",
     "output_type": "error",
     "traceback": [
      "\u001b[0;31m---------------------------------------------------------------------------\u001b[0m",
      "\u001b[0;31mKeyboardInterrupt\u001b[0m                         Traceback (most recent call last)",
      "\u001b[0;32m<ipython-input-11-747ef073024c>\u001b[0m in \u001b[0;36m<module>\u001b[0;34m()\u001b[0m\n\u001b[1;32m     15\u001b[0m \u001b[0;34m\u001b[0m\u001b[0m\n\u001b[1;32m     16\u001b[0m     \u001b[0;32mif\u001b[0m \u001b[0mrelease\u001b[0m\u001b[0;34m.\u001b[0m\u001b[0mstatus_code\u001b[0m \u001b[0;34m!=\u001b[0m \u001b[0;36m404\u001b[0m\u001b[0;34m:\u001b[0m\u001b[0;34m\u001b[0m\u001b[0m\n\u001b[0;32m---> 17\u001b[0;31m         \u001b[0mdiscogs\u001b[0m\u001b[0;34m.\u001b[0m\u001b[0mloc\u001b[0m\u001b[0;34m[\u001b[0m\u001b[0mlen\u001b[0m\u001b[0;34m(\u001b[0m\u001b[0mdiscogs\u001b[0m\u001b[0;34m)\u001b[0m\u001b[0;34m]\u001b[0m \u001b[0;34m=\u001b[0m \u001b[0mget_release_info\u001b[0m\u001b[0;34m(\u001b[0m\u001b[0mrelease\u001b[0m\u001b[0;34m.\u001b[0m\u001b[0mjson\u001b[0m\u001b[0;34m(\u001b[0m\u001b[0;34m)\u001b[0m\u001b[0;34m)\u001b[0m\u001b[0;34m\u001b[0m\u001b[0m\n\u001b[0m\u001b[1;32m     18\u001b[0m     \u001b[0;32melse\u001b[0m\u001b[0;34m:\u001b[0m\u001b[0;34m\u001b[0m\u001b[0m\n\u001b[1;32m     19\u001b[0m         \u001b[0mprint\u001b[0m\u001b[0;34m(\u001b[0m\u001b[0;34m'Release n°%d not found !'\u001b[0m \u001b[0;34m%\u001b[0m \u001b[0midx\u001b[0m\u001b[0;34m)\u001b[0m\u001b[0;34m\u001b[0m\u001b[0m\n",
      "\u001b[0;32m~/Projects/discogs_releases_analysis/helpers.py\u001b[0m in \u001b[0;36mget_release_info\u001b[0;34m(release, verbose)\u001b[0m\n\u001b[1;32m     71\u001b[0m     \u001b[0murl\u001b[0m \u001b[0;34m=\u001b[0m \u001b[0mrelease\u001b[0m\u001b[0;34m[\u001b[0m\u001b[0;34m'uri'\u001b[0m\u001b[0;34m]\u001b[0m\u001b[0;34m\u001b[0m\u001b[0m\n\u001b[1;32m     72\u001b[0m \u001b[0;34m\u001b[0m\u001b[0m\n\u001b[0;32m---> 73\u001b[0;31m     \u001b[0mlowest_price\u001b[0m\u001b[0;34m,\u001b[0m \u001b[0mmedian_price\u001b[0m\u001b[0;34m,\u001b[0m \u001b[0mhighest_price\u001b[0m \u001b[0;34m=\u001b[0m \u001b[0mget_release_prices\u001b[0m\u001b[0;34m(\u001b[0m\u001b[0murl\u001b[0m\u001b[0;34m)\u001b[0m\u001b[0;34m\u001b[0m\u001b[0m\n\u001b[0m\u001b[1;32m     74\u001b[0m \u001b[0;34m\u001b[0m\u001b[0m\n\u001b[1;32m     75\u001b[0m \u001b[0;34m\u001b[0m\u001b[0m\n",
      "\u001b[0;32m~/Projects/discogs_releases_analysis/helpers.py\u001b[0m in \u001b[0;36mget_release_prices\u001b[0;34m(release_url)\u001b[0m\n\u001b[1;32m     25\u001b[0m     \u001b[0;32mif\u001b[0m \u001b[0mhtml\u001b[0m\u001b[0;34m.\u001b[0m\u001b[0mstatus_code\u001b[0m \u001b[0;34m==\u001b[0m \u001b[0;36m429\u001b[0m\u001b[0;34m:\u001b[0m\u001b[0;34m\u001b[0m\u001b[0m\n\u001b[1;32m     26\u001b[0m         \u001b[0mprint\u001b[0m\u001b[0;34m(\u001b[0m\u001b[0;34m'Rate Limiting ! Wait 60 secondes...'\u001b[0m\u001b[0;34m,\u001b[0m \u001b[0mend\u001b[0m\u001b[0;34m=\u001b[0m\u001b[0;34m' '\u001b[0m\u001b[0;34m)\u001b[0m\u001b[0;34m\u001b[0m\u001b[0m\n\u001b[0;32m---> 27\u001b[0;31m         \u001b[0mtime\u001b[0m\u001b[0;34m.\u001b[0m\u001b[0msleep\u001b[0m\u001b[0;34m(\u001b[0m\u001b[0;36m60\u001b[0m\u001b[0;34m)\u001b[0m\u001b[0;34m\u001b[0m\u001b[0m\n\u001b[0m\u001b[1;32m     28\u001b[0m         \u001b[0mprint\u001b[0m\u001b[0;34m(\u001b[0m\u001b[0;34m'Done!'\u001b[0m\u001b[0;34m)\u001b[0m\u001b[0;34m\u001b[0m\u001b[0m\n\u001b[1;32m     29\u001b[0m         \u001b[0mhtml\u001b[0m \u001b[0;34m=\u001b[0m \u001b[0mrequests\u001b[0m\u001b[0;34m.\u001b[0m\u001b[0mget\u001b[0m\u001b[0;34m(\u001b[0m\u001b[0mrelease_url\u001b[0m\u001b[0;34m)\u001b[0m\u001b[0;34m\u001b[0m\u001b[0m\n",
      "\u001b[0;31mKeyboardInterrupt\u001b[0m: "
     ]
    }
   ],
   "source": [
    "columns = ['Release_ID', 'Master_ID', 'Artists', 'Title', 'Format', \\\n",
    "           'Labels', 'Genres', 'Styles', 'Country', 'Released', \\\n",
    "           'Rating', 'Have_Want', 'Nb_for_sale', 'Lowest_price', 'Median_price', 'Highest_price', 'Nb_track', 'Tracklist', 'URL']\n",
    "\n",
    "discogs = pd.DataFrame(columns=columns)\n",
    "\n",
    "for idx in range(1, 60):    \n",
    "    url = \"https://api.discogs.com/releases/%s\" % idx\n",
    "    release = requests.get(url)\n",
    "    print('%d : %s (status code: %d)' % (idx, url, release.status_code))\n",
    "\n",
    "    if release.status_code == 429:\n",
    "        print('Rate Limiting ! Wait 60 secondes...', end=' ')\n",
    "        time.sleep(60)\n",
    "        print('Done!')\n",
    "        release = requests.get(url)\n",
    "    \n",
    "    if release.status_code != 404:\n",
    "        discogs.loc[len(discogs)] = get_release_info(release.json())\n",
    "    else:\n",
    "        print('Release n°%d not found !' % idx)\n",
    "    \n",
    "    \n",
    "discogs"
   ]
  },
  {
   "cell_type": "code",
   "execution_count": null,
   "metadata": {},
   "outputs": [],
   "source": [
    "# # For test purpose...\n",
    "# url = \"https://api.discogs.com/masters/%s\" % 478247\n",
    "# url = \"https://api.discogs.com/releases/%s\" % 3922784\n",
    "# release = requests.get(url)\n",
    "# print('%d : %s (status code: %d)' % (idx, url, release.status_code))\n"
   ]
  },
  {
   "cell_type": "code",
   "execution_count": null,
   "metadata": {},
   "outputs": [],
   "source": []
  }
 ],
 "metadata": {
  "kernelspec": {
   "display_name": "Python 3",
   "language": "python",
   "name": "python3"
  },
  "language_info": {
   "codemirror_mode": {
    "name": "ipython",
    "version": 3
   },
   "file_extension": ".py",
   "mimetype": "text/x-python",
   "name": "python",
   "nbconvert_exporter": "python",
   "pygments_lexer": "ipython3",
   "version": "3.7.0"
  }
 },
 "nbformat": 4,
 "nbformat_minor": 2
}
